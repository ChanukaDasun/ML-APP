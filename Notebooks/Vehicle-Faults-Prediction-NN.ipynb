{
  "cells": [
    {
      "cell_type": "markdown",
      "metadata": {
        "id": "view-in-github",
        "colab_type": "text"
      },
      "source": [
        "<a href=\"https://colab.research.google.com/github/ChanukaDasun/ML-APP/blob/main/Notebooks/Vehicle-Faults-Prediction-NN.ipynb\" target=\"_parent\"><img src=\"https://colab.research.google.com/assets/colab-badge.svg\" alt=\"Open In Colab\"/></a>"
      ]
    },
    {
      "cell_type": "code",
      "execution_count": null,
      "metadata": {
        "id": "l-AEsEvW4alk"
      },
      "outputs": [],
      "source": [
        "# data proccess\n",
        "import pandas as pd\n",
        "import numpy as np\n",
        "import matplotlib.pyplot as plt\n",
        "\n",
        "df = pd.read_excel(\"./TestData.xlsx\")"
      ]
    },
    {
      "cell_type": "code",
      "source": [
        "df = df.dropna(subset=['ENGINE_COOLANT_TEMP']).reset_index(drop=True)\n",
        "df['TROUBLE_CODES'] = df['TROUBLE_CODES'].fillna(\"No error\")\n",
        "df.shape, df.isnull().sum(), df['TROUBLE_CODES'].unique()"
      ],
      "metadata": {
        "colab": {
          "base_uri": "https://localhost:8080/"
        },
        "id": "rD_htPef7cAm",
        "outputId": "3ed0e1be-bd10-4072-8d20-8d09c36e4a96"
      },
      "execution_count": null,
      "outputs": [
        {
          "output_type": "execute_result",
          "data": {
            "text/plain": [
              "((33964, 33),\n",
              " TIMESTAMP                          0\n",
              " MAKE                              55\n",
              " MODEL                             55\n",
              " CAR_YEAR                          55\n",
              " ENGINE_POWER                      55\n",
              " AUTOMATIC                         55\n",
              " VEHICLE_ID                         0\n",
              " BAROMETRIC_PRESSURE(KPA)       23761\n",
              " ENGINE_COOLANT_TEMP                0\n",
              " FUEL_LEVEL                     30981\n",
              " ENGINE_LOAD                     3600\n",
              " AMBIENT_AIR_TEMP               30348\n",
              " ENGINE_RPM                       705\n",
              " INTAKE_MANIFOLD_PRESSURE        9438\n",
              " MAF                            22153\n",
              " LONG TERM FUEL TRIM BANK 2     33336\n",
              " FUEL_TYPE                      24705\n",
              " AIR_INTAKE_TEMP                  180\n",
              " FUEL_PRESSURE                  33827\n",
              " SPEED                            471\n",
              " SHORT TERM FUEL TRIM BANK 2    33335\n",
              " SHORT TERM FUEL TRIM BANK 1     9155\n",
              " ENGINE_RUNTIME                 22088\n",
              " THROTTLE_POS                     456\n",
              " DTC_NUMBER                       254\n",
              " TROUBLE_CODES                      0\n",
              " TIMING_ADVANCE                   418\n",
              " EQUIV_RATIO                    22106\n",
              " MIN                                2\n",
              " HOURS                              2\n",
              " DAYS_OF_WEEK                       2\n",
              " MONTHS                             2\n",
              " YEAR                               2\n",
              " dtype: int64,\n",
              " array(['No error', 'P0133', 'C0300', 'P0079P2004P3000', 'P0078U1004P3000',\n",
              "        'P0079C1004P3000', 'P007EP2036P18F0', 'P007EP2036P18D0',\n",
              "        'P0079P1004P3000', 'P007EP2036P18E0', 'P007FP2036P18E0',\n",
              "        'P007FP2036P18D0', 'P0078B0004P3000', 'P007FP2036P18F0'],\n",
              "       dtype=object))"
            ]
          },
          "metadata": {},
          "execution_count": 2
        }
      ]
    },
    {
      "cell_type": "code",
      "execution_count": null,
      "metadata": {
        "colab": {
          "base_uri": "https://localhost:8080/"
        },
        "id": "Qr4dveJO5VJy",
        "outputId": "b14f5269-fd30-4d81-d244-3eeb63197b9b"
      },
      "outputs": [
        {
          "output_type": "stream",
          "name": "stdout",
          "text": [
            "<class 'pandas.core.frame.DataFrame'>\n",
            "RangeIndex: 33964 entries, 0 to 33963\n",
            "Data columns (total 13 columns):\n",
            " #   Column                    Non-Null Count  Dtype  \n",
            "---  ------                    --------------  -----  \n",
            " 0   ENGINE_POWER              33964 non-null  float64\n",
            " 1   ENGINE_COOLANT_TEMP       33964 non-null  float64\n",
            " 2   ENGINE_LOAD               33964 non-null  float64\n",
            " 3   ENGINE_RPM                33964 non-null  float64\n",
            " 4   INTAKE_MANIFOLD_PRESSURE  33964 non-null  float64\n",
            " 5   AIR_INTAKE_TEMP           33964 non-null  float64\n",
            " 6   SPEED                     33964 non-null  float64\n",
            " 7   THROTTLE_POS              33964 non-null  float64\n",
            " 8   TIMING_ADVANCE            33964 non-null  float64\n",
            " 9   HOURS                     33964 non-null  float64\n",
            " 10  DAYS_OF_WEEK              33964 non-null  float64\n",
            " 11  MONTHS                    33964 non-null  float64\n",
            " 12  TROUBLE_CODES_MAPPED      33964 non-null  int64  \n",
            "dtypes: float64(12), int64(1)\n",
            "memory usage: 3.4 MB\n"
          ]
        }
      ],
      "source": [
        "from copy import deepcopy\n",
        "\n",
        "data = deepcopy(df[[\"ENGINE_POWER\", \"ENGINE_COOLANT_TEMP\", \"ENGINE_LOAD\", \"ENGINE_RPM\", \"INTAKE_MANIFOLD_PRESSURE\",\n",
        "                        \"AIR_INTAKE_TEMP\", \"SPEED\", \"THROTTLE_POS\", \"TIMING_ADVANCE\", \"HOURS\", \"DAYS_OF_WEEK\", \"MONTHS\"]])\n",
        "\n",
        "unique_code = df[\"TROUBLE_CODES\"].unique()\n",
        "trouble_code_mapping_dict = {code: index for index,code in enumerate(unique_code)}\n",
        "data[\"TROUBLE_CODES_MAPPED\"] = df[\"TROUBLE_CODES\"].map(trouble_code_mapping_dict)\n",
        "data = data.interpolate(method=\"linear\")\n",
        "data.info()"
      ]
    },
    {
      "cell_type": "code",
      "source": [
        "import firebase_admin\n",
        "from firebase_admin import db, credentials\n",
        "\n",
        "\n",
        "ref = db.reference(\"Time_Data\")\n",
        "data = {\"DAYS\": 0, \"HOURS\": 1, \"MONTHS\": 0, \"WEEKS\": 0}\n",
        "ref.push(data)"
      ],
      "metadata": {
        "id": "Y7Y-1WayZ0Wi",
        "colab": {
          "base_uri": "https://localhost:8080/"
        },
        "outputId": "bfd416cf-3f90-4b76-800b-fa81d971a2d4"
      },
      "execution_count": null,
      "outputs": [
        {
          "output_type": "execute_result",
          "data": {
            "text/plain": [
              "<firebase_admin.db.Reference at 0x7ee054125090>"
            ]
          },
          "metadata": {},
          "execution_count": 6
        }
      ]
    },
    {
      "cell_type": "code",
      "source": [
        "x = [ {\"a1\":{1,2,3}, \"a2\":{1,2,3}}, {\"b1\":{1,2,3}, \"b2\":{1,2,3}} ]\n",
        "len(x)"
      ],
      "metadata": {
        "colab": {
          "base_uri": "https://localhost:8080/"
        },
        "id": "yRBzLvLS-t24",
        "outputId": "51424eaa-1246-4e74-9f49-5ae97448e985"
      },
      "execution_count": null,
      "outputs": [
        {
          "output_type": "execute_result",
          "data": {
            "text/plain": [
              "2"
            ]
          },
          "metadata": {},
          "execution_count": 10
        }
      ]
    },
    {
      "cell_type": "code",
      "source": [
        "import datetime\n",
        "\n",
        "for i in range(5):\n",
        "  date_ = datetime.date.today() + datetime.timedelta(days=i)\n",
        "  print(date_)\n"
      ],
      "metadata": {
        "colab": {
          "base_uri": "https://localhost:8080/"
        },
        "id": "aOCpkTiMev4s",
        "outputId": "aba3f9f7-9e61-4cc3-87d0-42f6ef721406"
      },
      "execution_count": null,
      "outputs": [
        {
          "output_type": "stream",
          "name": "stdout",
          "text": [
            "2024-07-07\n",
            "2024-07-08\n",
            "2024-07-09\n",
            "2024-07-10\n",
            "2024-07-11\n"
          ]
        }
      ]
    },
    {
      "cell_type": "code",
      "source": [
        "import firebase_admin\n",
        "from firebase_admin import db, credentials\n",
        "import datetime\n",
        "\n",
        "features = {\"ENGINE_POWER\", \"ENGINE_COOLANT_TEMP\", \"ENGINE_LOAD\", \"ENGINE_RPM\", \"SPEED\", \"THROTTLE_POS\", \"AIR_INTAKE_TEMP\"}\n",
        "\n",
        "# {'a':{}, 'b':{}}\n",
        "ref = db.reference(\"Live_obd_data\")\n",
        "count = 0\n",
        "day = 0\n",
        "obj = {}\n",
        "for count in range(50, 80):\n",
        "  for col in data:\n",
        "    if col in features:\n",
        "      obj[col] = {}\n",
        "      obj[col]['VALUE'] = data[col][count]\n",
        "      obj[col]['TIME'] = date_ = datetime.date.today() + datetime.timedelta(days=day)\n",
        "      obj[col]['TIME'] = date_.isoformat()\n",
        "  day += 1\n",
        "  ref.push(obj)\n",
        "\n",
        "print(\"ok\")\n"
      ],
      "metadata": {
        "colab": {
          "base_uri": "https://localhost:8080/"
        },
        "id": "mdLwvKV2VxrO",
        "outputId": "fa100dda-854b-46c9-c9ef-8835f5e8b1aa"
      },
      "execution_count": null,
      "outputs": [
        {
          "output_type": "stream",
          "name": "stdout",
          "text": [
            "ok\n"
          ]
        }
      ]
    },
    {
      "cell_type": "code",
      "source": [
        "data.head()"
      ],
      "metadata": {
        "colab": {
          "base_uri": "https://localhost:8080/",
          "height": 226
        },
        "id": "iRLur9wTREYR",
        "outputId": "5f9c2f92-e3c3-4af2-ccd5-36c59696e450"
      },
      "execution_count": null,
      "outputs": [
        {
          "output_type": "execute_result",
          "data": {
            "text/plain": [
              "   ENGINE_POWER  ENGINE_COOLANT_TEMP  ENGINE_LOAD  ENGINE_RPM  \\\n",
              "0           1.4                 80.0        0.333      1009.0   \n",
              "1           1.4                 80.0        0.325      1003.0   \n",
              "2           1.4                 80.0        0.329       995.0   \n",
              "3           1.4                 80.0        0.325      1004.0   \n",
              "4           1.4                 80.0        0.329      1005.0   \n",
              "\n",
              "   INTAKE_MANIFOLD_PRESSURE  AIR_INTAKE_TEMP  SPEED  THROTTLE_POS  \\\n",
              "0                      49.0             59.0    0.0         0.251   \n",
              "1                      52.0             59.0    0.0         0.251   \n",
              "2                      51.0             59.0    0.0         0.251   \n",
              "3                      51.0             60.0    0.0         0.251   \n",
              "4                      49.0             60.0    0.0         0.251   \n",
              "\n",
              "   TIMING_ADVANCE  HOURS  DAYS_OF_WEEK  MONTHS  TROUBLE_CODES_MAPPED  \n",
              "0           0.569   16.0           2.0     8.0                     0  \n",
              "1           0.565   16.0           2.0     8.0                     0  \n",
              "2           0.573   16.0           2.0     8.0                     0  \n",
              "3           0.565   16.0           2.0     8.0                     0  \n",
              "4           0.569   16.0           2.0     8.0                     0  "
            ],
            "text/html": [
              "\n",
              "  <div id=\"df-d4c20b76-7526-4ebc-a5f9-65571664b540\" class=\"colab-df-container\">\n",
              "    <div>\n",
              "<style scoped>\n",
              "    .dataframe tbody tr th:only-of-type {\n",
              "        vertical-align: middle;\n",
              "    }\n",
              "\n",
              "    .dataframe tbody tr th {\n",
              "        vertical-align: top;\n",
              "    }\n",
              "\n",
              "    .dataframe thead th {\n",
              "        text-align: right;\n",
              "    }\n",
              "</style>\n",
              "<table border=\"1\" class=\"dataframe\">\n",
              "  <thead>\n",
              "    <tr style=\"text-align: right;\">\n",
              "      <th></th>\n",
              "      <th>ENGINE_POWER</th>\n",
              "      <th>ENGINE_COOLANT_TEMP</th>\n",
              "      <th>ENGINE_LOAD</th>\n",
              "      <th>ENGINE_RPM</th>\n",
              "      <th>INTAKE_MANIFOLD_PRESSURE</th>\n",
              "      <th>AIR_INTAKE_TEMP</th>\n",
              "      <th>SPEED</th>\n",
              "      <th>THROTTLE_POS</th>\n",
              "      <th>TIMING_ADVANCE</th>\n",
              "      <th>HOURS</th>\n",
              "      <th>DAYS_OF_WEEK</th>\n",
              "      <th>MONTHS</th>\n",
              "      <th>TROUBLE_CODES_MAPPED</th>\n",
              "    </tr>\n",
              "  </thead>\n",
              "  <tbody>\n",
              "    <tr>\n",
              "      <th>0</th>\n",
              "      <td>1.4</td>\n",
              "      <td>80.0</td>\n",
              "      <td>0.333</td>\n",
              "      <td>1009.0</td>\n",
              "      <td>49.0</td>\n",
              "      <td>59.0</td>\n",
              "      <td>0.0</td>\n",
              "      <td>0.251</td>\n",
              "      <td>0.569</td>\n",
              "      <td>16.0</td>\n",
              "      <td>2.0</td>\n",
              "      <td>8.0</td>\n",
              "      <td>0</td>\n",
              "    </tr>\n",
              "    <tr>\n",
              "      <th>1</th>\n",
              "      <td>1.4</td>\n",
              "      <td>80.0</td>\n",
              "      <td>0.325</td>\n",
              "      <td>1003.0</td>\n",
              "      <td>52.0</td>\n",
              "      <td>59.0</td>\n",
              "      <td>0.0</td>\n",
              "      <td>0.251</td>\n",
              "      <td>0.565</td>\n",
              "      <td>16.0</td>\n",
              "      <td>2.0</td>\n",
              "      <td>8.0</td>\n",
              "      <td>0</td>\n",
              "    </tr>\n",
              "    <tr>\n",
              "      <th>2</th>\n",
              "      <td>1.4</td>\n",
              "      <td>80.0</td>\n",
              "      <td>0.329</td>\n",
              "      <td>995.0</td>\n",
              "      <td>51.0</td>\n",
              "      <td>59.0</td>\n",
              "      <td>0.0</td>\n",
              "      <td>0.251</td>\n",
              "      <td>0.573</td>\n",
              "      <td>16.0</td>\n",
              "      <td>2.0</td>\n",
              "      <td>8.0</td>\n",
              "      <td>0</td>\n",
              "    </tr>\n",
              "    <tr>\n",
              "      <th>3</th>\n",
              "      <td>1.4</td>\n",
              "      <td>80.0</td>\n",
              "      <td>0.325</td>\n",
              "      <td>1004.0</td>\n",
              "      <td>51.0</td>\n",
              "      <td>60.0</td>\n",
              "      <td>0.0</td>\n",
              "      <td>0.251</td>\n",
              "      <td>0.565</td>\n",
              "      <td>16.0</td>\n",
              "      <td>2.0</td>\n",
              "      <td>8.0</td>\n",
              "      <td>0</td>\n",
              "    </tr>\n",
              "    <tr>\n",
              "      <th>4</th>\n",
              "      <td>1.4</td>\n",
              "      <td>80.0</td>\n",
              "      <td>0.329</td>\n",
              "      <td>1005.0</td>\n",
              "      <td>49.0</td>\n",
              "      <td>60.0</td>\n",
              "      <td>0.0</td>\n",
              "      <td>0.251</td>\n",
              "      <td>0.569</td>\n",
              "      <td>16.0</td>\n",
              "      <td>2.0</td>\n",
              "      <td>8.0</td>\n",
              "      <td>0</td>\n",
              "    </tr>\n",
              "  </tbody>\n",
              "</table>\n",
              "</div>\n",
              "    <div class=\"colab-df-buttons\">\n",
              "\n",
              "  <div class=\"colab-df-container\">\n",
              "    <button class=\"colab-df-convert\" onclick=\"convertToInteractive('df-d4c20b76-7526-4ebc-a5f9-65571664b540')\"\n",
              "            title=\"Convert this dataframe to an interactive table.\"\n",
              "            style=\"display:none;\">\n",
              "\n",
              "  <svg xmlns=\"http://www.w3.org/2000/svg\" height=\"24px\" viewBox=\"0 -960 960 960\">\n",
              "    <path d=\"M120-120v-720h720v720H120Zm60-500h600v-160H180v160Zm220 220h160v-160H400v160Zm0 220h160v-160H400v160ZM180-400h160v-160H180v160Zm440 0h160v-160H620v160ZM180-180h160v-160H180v160Zm440 0h160v-160H620v160Z\"/>\n",
              "  </svg>\n",
              "    </button>\n",
              "\n",
              "  <style>\n",
              "    .colab-df-container {\n",
              "      display:flex;\n",
              "      gap: 12px;\n",
              "    }\n",
              "\n",
              "    .colab-df-convert {\n",
              "      background-color: #E8F0FE;\n",
              "      border: none;\n",
              "      border-radius: 50%;\n",
              "      cursor: pointer;\n",
              "      display: none;\n",
              "      fill: #1967D2;\n",
              "      height: 32px;\n",
              "      padding: 0 0 0 0;\n",
              "      width: 32px;\n",
              "    }\n",
              "\n",
              "    .colab-df-convert:hover {\n",
              "      background-color: #E2EBFA;\n",
              "      box-shadow: 0px 1px 2px rgba(60, 64, 67, 0.3), 0px 1px 3px 1px rgba(60, 64, 67, 0.15);\n",
              "      fill: #174EA6;\n",
              "    }\n",
              "\n",
              "    .colab-df-buttons div {\n",
              "      margin-bottom: 4px;\n",
              "    }\n",
              "\n",
              "    [theme=dark] .colab-df-convert {\n",
              "      background-color: #3B4455;\n",
              "      fill: #D2E3FC;\n",
              "    }\n",
              "\n",
              "    [theme=dark] .colab-df-convert:hover {\n",
              "      background-color: #434B5C;\n",
              "      box-shadow: 0px 1px 3px 1px rgba(0, 0, 0, 0.15);\n",
              "      filter: drop-shadow(0px 1px 2px rgba(0, 0, 0, 0.3));\n",
              "      fill: #FFFFFF;\n",
              "    }\n",
              "  </style>\n",
              "\n",
              "    <script>\n",
              "      const buttonEl =\n",
              "        document.querySelector('#df-d4c20b76-7526-4ebc-a5f9-65571664b540 button.colab-df-convert');\n",
              "      buttonEl.style.display =\n",
              "        google.colab.kernel.accessAllowed ? 'block' : 'none';\n",
              "\n",
              "      async function convertToInteractive(key) {\n",
              "        const element = document.querySelector('#df-d4c20b76-7526-4ebc-a5f9-65571664b540');\n",
              "        const dataTable =\n",
              "          await google.colab.kernel.invokeFunction('convertToInteractive',\n",
              "                                                    [key], {});\n",
              "        if (!dataTable) return;\n",
              "\n",
              "        const docLinkHtml = 'Like what you see? Visit the ' +\n",
              "          '<a target=\"_blank\" href=https://colab.research.google.com/notebooks/data_table.ipynb>data table notebook</a>'\n",
              "          + ' to learn more about interactive tables.';\n",
              "        element.innerHTML = '';\n",
              "        dataTable['output_type'] = 'display_data';\n",
              "        await google.colab.output.renderOutput(dataTable, element);\n",
              "        const docLink = document.createElement('div');\n",
              "        docLink.innerHTML = docLinkHtml;\n",
              "        element.appendChild(docLink);\n",
              "      }\n",
              "    </script>\n",
              "  </div>\n",
              "\n",
              "\n",
              "<div id=\"df-609ad58e-b03f-4b5f-a0fe-766265610b75\">\n",
              "  <button class=\"colab-df-quickchart\" onclick=\"quickchart('df-609ad58e-b03f-4b5f-a0fe-766265610b75')\"\n",
              "            title=\"Suggest charts\"\n",
              "            style=\"display:none;\">\n",
              "\n",
              "<svg xmlns=\"http://www.w3.org/2000/svg\" height=\"24px\"viewBox=\"0 0 24 24\"\n",
              "     width=\"24px\">\n",
              "    <g>\n",
              "        <path d=\"M19 3H5c-1.1 0-2 .9-2 2v14c0 1.1.9 2 2 2h14c1.1 0 2-.9 2-2V5c0-1.1-.9-2-2-2zM9 17H7v-7h2v7zm4 0h-2V7h2v10zm4 0h-2v-4h2v4z\"/>\n",
              "    </g>\n",
              "</svg>\n",
              "  </button>\n",
              "\n",
              "<style>\n",
              "  .colab-df-quickchart {\n",
              "      --bg-color: #E8F0FE;\n",
              "      --fill-color: #1967D2;\n",
              "      --hover-bg-color: #E2EBFA;\n",
              "      --hover-fill-color: #174EA6;\n",
              "      --disabled-fill-color: #AAA;\n",
              "      --disabled-bg-color: #DDD;\n",
              "  }\n",
              "\n",
              "  [theme=dark] .colab-df-quickchart {\n",
              "      --bg-color: #3B4455;\n",
              "      --fill-color: #D2E3FC;\n",
              "      --hover-bg-color: #434B5C;\n",
              "      --hover-fill-color: #FFFFFF;\n",
              "      --disabled-bg-color: #3B4455;\n",
              "      --disabled-fill-color: #666;\n",
              "  }\n",
              "\n",
              "  .colab-df-quickchart {\n",
              "    background-color: var(--bg-color);\n",
              "    border: none;\n",
              "    border-radius: 50%;\n",
              "    cursor: pointer;\n",
              "    display: none;\n",
              "    fill: var(--fill-color);\n",
              "    height: 32px;\n",
              "    padding: 0;\n",
              "    width: 32px;\n",
              "  }\n",
              "\n",
              "  .colab-df-quickchart:hover {\n",
              "    background-color: var(--hover-bg-color);\n",
              "    box-shadow: 0 1px 2px rgba(60, 64, 67, 0.3), 0 1px 3px 1px rgba(60, 64, 67, 0.15);\n",
              "    fill: var(--button-hover-fill-color);\n",
              "  }\n",
              "\n",
              "  .colab-df-quickchart-complete:disabled,\n",
              "  .colab-df-quickchart-complete:disabled:hover {\n",
              "    background-color: var(--disabled-bg-color);\n",
              "    fill: var(--disabled-fill-color);\n",
              "    box-shadow: none;\n",
              "  }\n",
              "\n",
              "  .colab-df-spinner {\n",
              "    border: 2px solid var(--fill-color);\n",
              "    border-color: transparent;\n",
              "    border-bottom-color: var(--fill-color);\n",
              "    animation:\n",
              "      spin 1s steps(1) infinite;\n",
              "  }\n",
              "\n",
              "  @keyframes spin {\n",
              "    0% {\n",
              "      border-color: transparent;\n",
              "      border-bottom-color: var(--fill-color);\n",
              "      border-left-color: var(--fill-color);\n",
              "    }\n",
              "    20% {\n",
              "      border-color: transparent;\n",
              "      border-left-color: var(--fill-color);\n",
              "      border-top-color: var(--fill-color);\n",
              "    }\n",
              "    30% {\n",
              "      border-color: transparent;\n",
              "      border-left-color: var(--fill-color);\n",
              "      border-top-color: var(--fill-color);\n",
              "      border-right-color: var(--fill-color);\n",
              "    }\n",
              "    40% {\n",
              "      border-color: transparent;\n",
              "      border-right-color: var(--fill-color);\n",
              "      border-top-color: var(--fill-color);\n",
              "    }\n",
              "    60% {\n",
              "      border-color: transparent;\n",
              "      border-right-color: var(--fill-color);\n",
              "    }\n",
              "    80% {\n",
              "      border-color: transparent;\n",
              "      border-right-color: var(--fill-color);\n",
              "      border-bottom-color: var(--fill-color);\n",
              "    }\n",
              "    90% {\n",
              "      border-color: transparent;\n",
              "      border-bottom-color: var(--fill-color);\n",
              "    }\n",
              "  }\n",
              "</style>\n",
              "\n",
              "  <script>\n",
              "    async function quickchart(key) {\n",
              "      const quickchartButtonEl =\n",
              "        document.querySelector('#' + key + ' button');\n",
              "      quickchartButtonEl.disabled = true;  // To prevent multiple clicks.\n",
              "      quickchartButtonEl.classList.add('colab-df-spinner');\n",
              "      try {\n",
              "        const charts = await google.colab.kernel.invokeFunction(\n",
              "            'suggestCharts', [key], {});\n",
              "      } catch (error) {\n",
              "        console.error('Error during call to suggestCharts:', error);\n",
              "      }\n",
              "      quickchartButtonEl.classList.remove('colab-df-spinner');\n",
              "      quickchartButtonEl.classList.add('colab-df-quickchart-complete');\n",
              "    }\n",
              "    (() => {\n",
              "      let quickchartButtonEl =\n",
              "        document.querySelector('#df-609ad58e-b03f-4b5f-a0fe-766265610b75 button');\n",
              "      quickchartButtonEl.style.display =\n",
              "        google.colab.kernel.accessAllowed ? 'block' : 'none';\n",
              "    })();\n",
              "  </script>\n",
              "</div>\n",
              "\n",
              "    </div>\n",
              "  </div>\n"
            ],
            "application/vnd.google.colaboratory.intrinsic+json": {
              "type": "dataframe",
              "variable_name": "data",
              "summary": "{\n  \"name\": \"data\",\n  \"rows\": 33909,\n  \"fields\": [\n    {\n      \"column\": \"ENGINE_POWER\",\n      \"properties\": {\n        \"dtype\": \"number\",\n        \"std\": 0.23207526323236832,\n        \"min\": 1.0,\n        \"max\": 1.8,\n        \"num_unique_values\": 4,\n        \"samples\": [\n          1.6,\n          1.8,\n          1.4\n        ],\n        \"semantic_type\": \"\",\n        \"description\": \"\"\n      }\n    },\n    {\n      \"column\": \"ENGINE_COOLANT_TEMP\",\n      \"properties\": {\n        \"dtype\": \"number\",\n        \"std\": 10.906490634844884,\n        \"min\": 22.0,\n        \"max\": 105.0,\n        \"num_unique_values\": 84,\n        \"samples\": [\n          26.0,\n          80.0,\n          53.0\n        ],\n        \"semantic_type\": \"\",\n        \"description\": \"\"\n      }\n    },\n    {\n      \"column\": \"ENGINE_LOAD\",\n      \"properties\": {\n        \"dtype\": \"number\",\n        \"std\": 0.21923934069840106,\n        \"min\": 0.051,\n        \"max\": 1.0,\n        \"num_unique_values\": 2229,\n        \"samples\": [\n          0.506,\n          0.257,\n          0.07980000000000001\n        ],\n        \"semantic_type\": \"\",\n        \"description\": \"\"\n      }\n    },\n    {\n      \"column\": \"ENGINE_RPM\",\n      \"properties\": {\n        \"dtype\": \"number\",\n        \"std\": 611.3268999818557,\n        \"min\": 438.0,\n        \"max\": 3816.0,\n        \"num_unique_values\": 3134,\n        \"samples\": [\n          1496.4545454545455,\n          1036.0,\n          1942.0\n        ],\n        \"semantic_type\": \"\",\n        \"description\": \"\"\n      }\n    },\n    {\n      \"column\": \"INTAKE_MANIFOLD_PRESSURE\",\n      \"properties\": {\n        \"dtype\": \"number\",\n        \"std\": 20.479633588165584,\n        \"min\": 13.0,\n        \"max\": 101.0,\n        \"num_unique_values\": 9366,\n        \"samples\": [\n          99.74565756823822,\n          36.10372129849564,\n          42.01227236737925\n        ],\n        \"semantic_type\": \"\",\n        \"description\": \"\"\n      }\n    },\n    {\n      \"column\": \"AIR_INTAKE_TEMP\",\n      \"properties\": {\n        \"dtype\": \"number\",\n        \"std\": 8.412964830748917,\n        \"min\": 23.0,\n        \"max\": 72.0,\n        \"num_unique_values\": 92,\n        \"samples\": [\n          69.0,\n          57.0,\n          31.5\n        ],\n        \"semantic_type\": \"\",\n        \"description\": \"\"\n      }\n    },\n    {\n      \"column\": \"SPEED\",\n      \"properties\": {\n        \"dtype\": \"number\",\n        \"std\": 29.389764006742368,\n        \"min\": 0.0,\n        \"max\": 143.0,\n        \"num_unique_values\": 245,\n        \"samples\": [\n          35.0,\n          19.0,\n          37.5\n        ],\n        \"semantic_type\": \"\",\n        \"description\": \"\"\n      }\n    },\n    {\n      \"column\": \"THROTTLE_POS\",\n      \"properties\": {\n        \"dtype\": \"number\",\n        \"std\": 0.08892503532313566,\n        \"min\": 0.008,\n        \"max\": 0.871,\n        \"num_unique_values\": 488,\n        \"samples\": [\n          0.404,\n          0.16175,\n          0.175\n        ],\n        \"semantic_type\": \"\",\n        \"description\": \"\"\n      }\n    },\n    {\n      \"column\": \"TIMING_ADVANCE\",\n      \"properties\": {\n        \"dtype\": \"number\",\n        \"std\": 0.17976680039108814,\n        \"min\": 0.004,\n        \"max\": 0.878,\n        \"num_unique_values\": 504,\n        \"samples\": [\n          0.09,\n          0.1825,\n          0.571\n        ],\n        \"semantic_type\": \"\",\n        \"description\": \"\"\n      }\n    },\n    {\n      \"column\": \"HOURS\",\n      \"properties\": {\n        \"dtype\": \"number\",\n        \"std\": 6.3723843804877625,\n        \"min\": 0.0,\n        \"max\": 23.0,\n        \"num_unique_values\": 21,\n        \"samples\": [\n          16.0,\n          11.0,\n          6.0\n        ],\n        \"semantic_type\": \"\",\n        \"description\": \"\"\n      }\n    },\n    {\n      \"column\": \"DAYS_OF_WEEK\",\n      \"properties\": {\n        \"dtype\": \"number\",\n        \"std\": 1.9691833539470174,\n        \"min\": 0.0,\n        \"max\": 6.0,\n        \"num_unique_values\": 7,\n        \"samples\": [\n          2.0,\n          3.0,\n          4.0\n        ],\n        \"semantic_type\": \"\",\n        \"description\": \"\"\n      }\n    },\n    {\n      \"column\": \"MONTHS\",\n      \"properties\": {\n        \"dtype\": \"number\",\n        \"std\": 0.7540908284575084,\n        \"min\": 7.0,\n        \"max\": 9.0,\n        \"num_unique_values\": 3,\n        \"samples\": [\n          8.0,\n          9.0,\n          7.0\n        ],\n        \"semantic_type\": \"\",\n        \"description\": \"\"\n      }\n    },\n    {\n      \"column\": \"TROUBLE_CODES_MAPPED\",\n      \"properties\": {\n        \"dtype\": \"number\",\n        \"std\": 0,\n        \"min\": 0,\n        \"max\": 13,\n        \"num_unique_values\": 14,\n        \"samples\": [\n          9,\n          11,\n          0\n        ],\n        \"semantic_type\": \"\",\n        \"description\": \"\"\n      }\n    }\n  ]\n}"
            }
          },
          "metadata": {},
          "execution_count": 7
        }
      ]
    },
    {
      "cell_type": "code",
      "source": [
        "from sklearn.model_selection import train_test_split\n",
        "from sklearn.preprocessing import StandardScaler, PolynomialFeatures\n",
        "\n",
        "x = data.iloc[:, :-1].to_numpy().reshape(len(data), 12)\n",
        "y = data.iloc[:, -1].to_numpy().reshape(len(data), 1)\n",
        "\n",
        "x_train, x_test, y_train, y_test = train_test_split(x, y, test_size=.25, random_state=80)\n",
        "\n",
        "poly = PolynomialFeatures(1, include_bias=False)\n",
        "\n",
        "x_train_mapped = poly.fit_transform(x_train)\n",
        "x_test_mapped = poly.transform(x_test)\n",
        "\n",
        "scaler = StandardScaler()\n",
        "\n",
        "x_train_mapped_scaled = scaler.fit_transform(x_train_mapped)\n",
        "x_test_mapped_scaled = scaler.transform(x_test_mapped)\n",
        "\n",
        "x_train_mapped_scaled.shape, x_test_mapped_scaled.shape, y_train.shape, y_test.shape"
      ],
      "metadata": {
        "colab": {
          "base_uri": "https://localhost:8080/"
        },
        "id": "69giUmW6-yT8",
        "outputId": "2f0cc18e-1e93-4e8f-b6da-e5f8b76ca5c4"
      },
      "execution_count": null,
      "outputs": [
        {
          "output_type": "execute_result",
          "data": {
            "text/plain": [
              "((25431, 12), (8478, 12), (25431, 1), (8478, 1))"
            ]
          },
          "metadata": {},
          "execution_count": 11
        }
      ]
    },
    {
      "cell_type": "code",
      "execution_count": null,
      "metadata": {
        "colab": {
          "base_uri": "https://localhost:8080/"
        },
        "id": "jBXvWBmK9Ltg",
        "outputId": "18d24ff7-aaad-4342-ea9e-385ea42816bf"
      },
      "outputs": [
        {
          "output_type": "stream",
          "name": "stdout",
          "text": [
            "Epoch 1/100\n",
            "795/795 [==============================] - 2s 2ms/step - loss: 0.5380\n",
            "Epoch 2/100\n",
            "795/795 [==============================] - 1s 2ms/step - loss: 0.1927\n",
            "Epoch 3/100\n",
            "795/795 [==============================] - 1s 2ms/step - loss: 0.1413\n",
            "Epoch 4/100\n",
            "795/795 [==============================] - 1s 2ms/step - loss: 0.1181\n",
            "Epoch 5/100\n",
            "795/795 [==============================] - 1s 2ms/step - loss: 0.1031\n",
            "Epoch 6/100\n",
            "795/795 [==============================] - 1s 2ms/step - loss: 0.0934\n",
            "Epoch 7/100\n",
            "795/795 [==============================] - 1s 2ms/step - loss: 0.0866\n",
            "Epoch 8/100\n",
            "795/795 [==============================] - 2s 2ms/step - loss: 0.0818\n",
            "Epoch 9/100\n",
            "795/795 [==============================] - 2s 2ms/step - loss: 0.0777\n",
            "Epoch 10/100\n",
            "795/795 [==============================] - 1s 2ms/step - loss: 0.0740\n",
            "Epoch 11/100\n",
            "795/795 [==============================] - 1s 2ms/step - loss: 0.0713\n",
            "Epoch 12/100\n",
            "795/795 [==============================] - 1s 2ms/step - loss: 0.0679\n",
            "Epoch 13/100\n",
            "795/795 [==============================] - 1s 2ms/step - loss: 0.0661\n",
            "Epoch 14/100\n",
            "795/795 [==============================] - 1s 2ms/step - loss: 0.0635\n",
            "Epoch 15/100\n",
            "795/795 [==============================] - 1s 2ms/step - loss: 0.0616\n",
            "Epoch 16/100\n",
            "795/795 [==============================] - 1s 2ms/step - loss: 0.0602\n",
            "Epoch 17/100\n",
            "795/795 [==============================] - 1s 2ms/step - loss: 0.0579\n",
            "Epoch 18/100\n",
            "795/795 [==============================] - 2s 2ms/step - loss: 0.0567\n",
            "Epoch 19/100\n",
            "795/795 [==============================] - 2s 2ms/step - loss: 0.0551\n",
            "Epoch 20/100\n",
            "795/795 [==============================] - 1s 2ms/step - loss: 0.0544\n",
            "Epoch 21/100\n",
            "795/795 [==============================] - 1s 2ms/step - loss: 0.0530\n",
            "Epoch 22/100\n",
            "795/795 [==============================] - 1s 2ms/step - loss: 0.0517\n",
            "Epoch 23/100\n",
            "795/795 [==============================] - 1s 2ms/step - loss: 0.0514\n",
            "Epoch 24/100\n",
            "795/795 [==============================] - 1s 2ms/step - loss: 0.0499\n",
            "Epoch 25/100\n",
            "795/795 [==============================] - 1s 2ms/step - loss: 0.0494\n",
            "Epoch 26/100\n",
            "795/795 [==============================] - 1s 2ms/step - loss: 0.0485\n",
            "Epoch 27/100\n",
            "795/795 [==============================] - 2s 2ms/step - loss: 0.0476\n",
            "Epoch 28/100\n",
            "795/795 [==============================] - 2s 2ms/step - loss: 0.0466\n",
            "Epoch 29/100\n",
            "795/795 [==============================] - 2s 2ms/step - loss: 0.0465\n",
            "Epoch 30/100\n",
            "795/795 [==============================] - 1s 2ms/step - loss: 0.0458\n",
            "Epoch 31/100\n",
            "795/795 [==============================] - 1s 2ms/step - loss: 0.0451\n",
            "Epoch 32/100\n",
            "795/795 [==============================] - 1s 2ms/step - loss: 0.0444\n",
            "Epoch 33/100\n",
            "795/795 [==============================] - 1s 2ms/step - loss: 0.0435\n",
            "Epoch 34/100\n",
            "795/795 [==============================] - 2s 2ms/step - loss: 0.0431\n",
            "Epoch 35/100\n",
            "795/795 [==============================] - 2s 2ms/step - loss: 0.0423\n",
            "Epoch 36/100\n",
            "795/795 [==============================] - 1s 2ms/step - loss: 0.0418\n",
            "Epoch 37/100\n",
            "795/795 [==============================] - 2s 2ms/step - loss: 0.0413\n",
            "Epoch 38/100\n",
            "795/795 [==============================] - 2s 2ms/step - loss: 0.0413\n",
            "Epoch 39/100\n",
            "795/795 [==============================] - 1s 2ms/step - loss: 0.0413\n",
            "Epoch 40/100\n",
            "795/795 [==============================] - 1s 2ms/step - loss: 0.0400\n",
            "Epoch 41/100\n",
            "795/795 [==============================] - 1s 2ms/step - loss: 0.0392\n",
            "Epoch 42/100\n",
            "795/795 [==============================] - 1s 2ms/step - loss: 0.0389\n",
            "Epoch 43/100\n",
            "795/795 [==============================] - 1s 2ms/step - loss: 0.0382\n",
            "Epoch 44/100\n",
            "795/795 [==============================] - 1s 2ms/step - loss: 0.0381\n",
            "Epoch 45/100\n",
            "795/795 [==============================] - 1s 2ms/step - loss: 0.0374\n",
            "Epoch 46/100\n",
            "795/795 [==============================] - 1s 2ms/step - loss: 0.0377\n",
            "Epoch 47/100\n",
            "795/795 [==============================] - 2s 2ms/step - loss: 0.0372\n",
            "Epoch 48/100\n",
            "795/795 [==============================] - 2s 2ms/step - loss: 0.0365\n",
            "Epoch 49/100\n",
            "795/795 [==============================] - 1s 2ms/step - loss: 0.0369\n",
            "Epoch 50/100\n",
            "795/795 [==============================] - 1s 2ms/step - loss: 0.0360\n",
            "Epoch 51/100\n",
            "795/795 [==============================] - 1s 2ms/step - loss: 0.0352\n",
            "Epoch 52/100\n",
            "795/795 [==============================] - 1s 2ms/step - loss: 0.0352\n",
            "Epoch 53/100\n",
            "795/795 [==============================] - 1s 2ms/step - loss: 0.0346\n",
            "Epoch 54/100\n",
            "795/795 [==============================] - 1s 2ms/step - loss: 0.0353\n",
            "Epoch 55/100\n",
            "795/795 [==============================] - 1s 2ms/step - loss: 0.0342\n",
            "Epoch 56/100\n",
            "795/795 [==============================] - 1s 2ms/step - loss: 0.0341\n",
            "Epoch 57/100\n",
            "795/795 [==============================] - 2s 2ms/step - loss: 0.0346\n",
            "Epoch 58/100\n",
            "795/795 [==============================] - 2s 2ms/step - loss: 0.0342\n",
            "Epoch 59/100\n",
            "795/795 [==============================] - 1s 2ms/step - loss: 0.0334\n",
            "Epoch 60/100\n",
            "795/795 [==============================] - 1s 2ms/step - loss: 0.0331\n",
            "Epoch 61/100\n",
            "795/795 [==============================] - 1s 2ms/step - loss: 0.0330\n",
            "Epoch 62/100\n",
            "795/795 [==============================] - 1s 2ms/step - loss: 0.0329\n",
            "Epoch 63/100\n",
            "795/795 [==============================] - 1s 2ms/step - loss: 0.0329\n",
            "Epoch 64/100\n",
            "795/795 [==============================] - 1s 2ms/step - loss: 0.0320\n",
            "Epoch 65/100\n",
            "795/795 [==============================] - 1s 2ms/step - loss: 0.0326\n",
            "Epoch 66/100\n",
            "795/795 [==============================] - 1s 2ms/step - loss: 0.0319\n",
            "Epoch 67/100\n",
            "795/795 [==============================] - 2s 2ms/step - loss: 0.0319\n",
            "Epoch 68/100\n",
            "795/795 [==============================] - 2s 2ms/step - loss: 0.0310\n",
            "Epoch 69/100\n",
            "795/795 [==============================] - 1s 2ms/step - loss: 0.0310\n",
            "Epoch 70/100\n",
            "795/795 [==============================] - 1s 2ms/step - loss: 0.0315\n",
            "Epoch 71/100\n",
            "795/795 [==============================] - 2s 2ms/step - loss: 0.0307\n",
            "Epoch 72/100\n",
            "795/795 [==============================] - 1s 2ms/step - loss: 0.0306\n",
            "Epoch 73/100\n",
            "795/795 [==============================] - 1s 2ms/step - loss: 0.0304\n",
            "Epoch 74/100\n",
            "795/795 [==============================] - 1s 2ms/step - loss: 0.0303\n",
            "Epoch 75/100\n",
            "795/795 [==============================] - 1s 2ms/step - loss: 0.0299\n",
            "Epoch 76/100\n",
            "795/795 [==============================] - 2s 2ms/step - loss: 0.0303\n",
            "Epoch 77/100\n",
            "795/795 [==============================] - 2s 2ms/step - loss: 0.0298\n",
            "Epoch 78/100\n",
            "795/795 [==============================] - 1s 2ms/step - loss: 0.0300\n",
            "Epoch 79/100\n",
            "795/795 [==============================] - 1s 2ms/step - loss: 0.0292\n",
            "Epoch 80/100\n",
            "795/795 [==============================] - 1s 2ms/step - loss: 0.0291\n",
            "Epoch 81/100\n",
            "795/795 [==============================] - 1s 2ms/step - loss: 0.0290\n",
            "Epoch 82/100\n",
            "795/795 [==============================] - 1s 2ms/step - loss: 0.0295\n",
            "Epoch 83/100\n",
            "795/795 [==============================] - 1s 2ms/step - loss: 0.0284\n",
            "Epoch 84/100\n",
            "795/795 [==============================] - 1s 2ms/step - loss: 0.0290\n",
            "Epoch 85/100\n",
            "795/795 [==============================] - 1s 2ms/step - loss: 0.0289\n",
            "Epoch 86/100\n",
            "795/795 [==============================] - 2s 2ms/step - loss: 0.0288\n",
            "Epoch 87/100\n",
            "795/795 [==============================] - 2s 2ms/step - loss: 0.0282\n",
            "Epoch 88/100\n",
            "795/795 [==============================] - 1s 2ms/step - loss: 0.0283\n",
            "Epoch 89/100\n",
            "795/795 [==============================] - 1s 2ms/step - loss: 0.0281\n",
            "Epoch 90/100\n",
            "795/795 [==============================] - 1s 2ms/step - loss: 0.0287\n",
            "Epoch 91/100\n",
            "795/795 [==============================] - 1s 2ms/step - loss: 0.0276\n",
            "Epoch 92/100\n",
            "795/795 [==============================] - 1s 2ms/step - loss: 0.0275\n",
            "Epoch 93/100\n",
            "795/795 [==============================] - 1s 2ms/step - loss: 0.0277\n",
            "Epoch 94/100\n",
            "795/795 [==============================] - 1s 2ms/step - loss: 0.0273\n",
            "Epoch 95/100\n",
            "795/795 [==============================] - 1s 2ms/step - loss: 0.0272\n",
            "Epoch 96/100\n",
            "795/795 [==============================] - 2s 2ms/step - loss: 0.0270\n",
            "Epoch 97/100\n",
            "795/795 [==============================] - 2s 2ms/step - loss: 0.0271\n",
            "Epoch 98/100\n",
            "795/795 [==============================] - 1s 2ms/step - loss: 0.0265\n",
            "Epoch 99/100\n",
            "795/795 [==============================] - 1s 2ms/step - loss: 0.0270\n",
            "Epoch 100/100\n",
            "795/795 [==============================] - 1s 2ms/step - loss: 0.0271\n"
          ]
        },
        {
          "output_type": "execute_result",
          "data": {
            "text/plain": [
              "<keras.src.callbacks.History at 0x78636651e7a0>"
            ]
          },
          "metadata": {},
          "execution_count": 12
        }
      ],
      "source": [
        "import tensorflow as tf\n",
        "from tensorflow.keras.models import Sequential\n",
        "from tensorflow.keras.layers import Dense\n",
        "\n",
        "model_1 = Sequential([\n",
        "    tf.keras.Input(shape=(12,)),\n",
        "    Dense(25, activation=\"relu\"),\n",
        "    Dense(18, activation=\"relu\"),\n",
        "    Dense(14, activation=\"linear\"),\n",
        "], name=\"model_1\")\n",
        "\n",
        "model_1.compile(\n",
        "    loss=tf.keras.losses.SparseCategoricalCrossentropy(from_logits=True),\n",
        "    optimizer=tf.keras.optimizers.Adam(learning_rate=0.001)\n",
        ")\n",
        "\n",
        "model_1.fit(\n",
        "    x_train_mapped_scaled, y_train,\n",
        "    epochs=100\n",
        ")"
      ]
    },
    {
      "cell_type": "code",
      "execution_count": null,
      "metadata": {
        "colab": {
          "base_uri": "https://localhost:8080/"
        },
        "id": "QlFhX7y8BLQc",
        "outputId": "03267eaa-f023-4e83-8abc-8112af72dd26"
      },
      "outputs": [
        {
          "output_type": "stream",
          "name": "stdout",
          "text": [
            "795/795 [==============================] - 1s 1ms/step\n",
            "265/265 [==============================] - 0s 1ms/step\n"
          ]
        },
        {
          "output_type": "execute_result",
          "data": {
            "text/plain": [
              "(<tf.Tensor: shape=(), dtype=float32, numpy=0.024869494>,\n",
              " <tf.Tensor: shape=(), dtype=float32, numpy=0.074865535>)"
            ]
          },
          "metadata": {},
          "execution_count": 13
        }
      ],
      "source": [
        "from tensorflow.keras.losses import SparseCategoricalCrossentropy\n",
        "\n",
        "z_train = model_1.predict(x_train_mapped_scaled)\n",
        "sm_train = tf.nn.softmax(z_train)\n",
        "\n",
        "z_test = model_1.predict(x_test_mapped_scaled)\n",
        "sm_test = tf.nn.softmax(z_test)\n",
        "\n",
        "loss_fn = SparseCategoricalCrossentropy()\n",
        "\n",
        "train_loss = loss_fn(y_train, sm_train)\n",
        "\n",
        "test_loss = loss_fn(y_test, sm_test)\n",
        "\n",
        "train_loss, test_loss"
      ]
    },
    {
      "cell_type": "code",
      "execution_count": null,
      "metadata": {
        "colab": {
          "base_uri": "https://localhost:8080/"
        },
        "id": "2GRPq0fNzXO3",
        "outputId": "99bfafd6-7121-4b8d-ad85-d72b69e47052"
      },
      "outputs": [
        {
          "output_type": "execute_result",
          "data": {
            "text/plain": [
              "1"
            ]
          },
          "metadata": {},
          "execution_count": 14
        }
      ],
      "source": [
        "np.argmax(sm_train[1, :])"
      ]
    },
    {
      "cell_type": "code",
      "execution_count": null,
      "metadata": {
        "colab": {
          "base_uri": "https://localhost:8080/"
        },
        "id": "gpL3Q6BWwSOn",
        "outputId": "62575cd3-53b9-4efa-c347-69a478a2a1d7"
      },
      "outputs": [
        {
          "output_type": "execute_result",
          "data": {
            "text/plain": [
              "(204, 146)"
            ]
          },
          "metadata": {},
          "execution_count": 15
        }
      ],
      "source": [
        "def miss(x, y, sm):\n",
        "  count = 0\n",
        "  for i in range(len(x)):\n",
        "    if np.argmax(sm[i]) != y[i]:\n",
        "      count += 1\n",
        "  return count\n",
        "\n",
        "miss_train = miss(x_train, y_train, sm_train)\n",
        "miss_test = miss(x_test, y_test, sm_test)\n",
        "miss_train, miss_test"
      ]
    },
    {
      "cell_type": "code",
      "execution_count": null,
      "metadata": {
        "colab": {
          "base_uri": "https://localhost:8080/"
        },
        "id": "bd8milf40Dgn",
        "outputId": "220dcf56-7722-4e2d-8154-162ad402e869"
      },
      "outputs": [
        {
          "output_type": "execute_result",
          "data": {
            "text/plain": [
              "(0.8021705792143446, 1.7221042698749707)"
            ]
          },
          "metadata": {},
          "execution_count": 16
        }
      ],
      "source": [
        "(miss_train/len(y_train))*100, (miss_test/len(y_test))*100"
      ]
    },
    {
      "cell_type": "code",
      "execution_count": null,
      "metadata": {
        "colab": {
          "base_uri": "https://localhost:8080/"
        },
        "id": "xleR2Wrk2FFA",
        "outputId": "9cc794ce-2e4a-4d70-f5b9-311a4793f6f0"
      },
      "outputs": [
        {
          "output_type": "execute_result",
          "data": {
            "text/plain": [
              "(8478, 25431)"
            ]
          },
          "metadata": {},
          "execution_count": 17
        }
      ],
      "source": [
        "len(x_test), len(x_train)"
      ]
    },
    {
      "cell_type": "code",
      "execution_count": null,
      "metadata": {
        "id": "JkB2-J0gNnpO"
      },
      "outputs": [],
      "source": [
        "from sklearn.preprocessing import StandardScaler, PolynomialFeatures\n",
        "\n",
        "trouble_classes = ['No error','P0133', 'C0300', 'P0079P2004P3000', 'P0078U1004P3000',\n",
        "        'P0079C1004P3000', 'P007EP2036P18F0', 'P007EP2036P18D0',\n",
        "        'P007FP2036P18D0', 'P0079P1004P3000', 'P007EP2036P18E0',\n",
        "        'P007FP2036P18E0', 'P0078B0004P3000', 'P007FP2036P18F0']\n",
        "\n",
        "def model_predict(X):\n",
        "\n",
        "  poly = PolynomialFeatures(1, include_bias=False)\n",
        "  X_mapped = poly.fit_transform(X)\n",
        "  scaler = StandardScaler()\n",
        "  X_mapped_scaled = scaler.fit_transform(X_mapped)\n",
        "\n",
        "  z = model_1.predict(X_mapped_scaled)\n",
        "  sm = tf.nn.softmax(z)\n",
        "  prediction_array = np.argmax(sm, axis=1) # apply for each sample(row)\n",
        "\n",
        "  return prediction_array"
      ]
    },
    {
      "cell_type": "code",
      "execution_count": null,
      "metadata": {
        "colab": {
          "base_uri": "https://localhost:8080/"
        },
        "id": "ocHQuNPYQ4KC",
        "outputId": "fe7f1c8d-0adf-438a-a567-4fb62df046a5"
      },
      "outputs": [
        {
          "output_type": "stream",
          "name": "stdout",
          "text": [
            "795/795 [==============================] - 1s 2ms/step\n"
          ]
        },
        {
          "output_type": "execute_result",
          "data": {
            "text/plain": [
              "204"
            ]
          },
          "metadata": {},
          "execution_count": 20
        }
      ],
      "source": [
        "predict_train = model_predict(x_train)\n",
        "m_count = 0\n",
        "for i in range(len(y_train)):\n",
        "  if predict_train[i] != y_train[i]:\n",
        "    m_count+=1\n",
        "\n",
        "m_count"
      ]
    },
    {
      "cell_type": "code",
      "execution_count": null,
      "metadata": {
        "id": "jX8DJeLUwT7-"
      },
      "outputs": [],
      "source": [
        "from tensorflow.keras.saving import load_model\n",
        "\n",
        "model_1.save('my_model.keras')"
      ]
    },
    {
      "cell_type": "code",
      "execution_count": null,
      "metadata": {
        "colab": {
          "base_uri": "https://localhost:8080/"
        },
        "id": "3rk8AxF6w8W9",
        "outputId": "b9d790d7-bc3f-4307-ecbc-e82afd22cf08"
      },
      "outputs": [
        {
          "name": "stderr",
          "output_type": "stream",
          "text": [
            "WARNING:tensorflow:5 out of the last 602 calls to <function Model.make_predict_function.<locals>.predict_function at 0x7884f1e7a7a0> triggered tf.function retracing. Tracing is expensive and the excessive number of tracings could be due to (1) creating @tf.function repeatedly in a loop, (2) passing tensors with different shapes, (3) passing Python objects instead of tensors. For (1), please define your @tf.function outside of the loop. For (2), @tf.function has reduce_retracing=True option that can avoid unnecessary retracing. For (3), please refer to https://www.tensorflow.org/guide/function#controlling_retracing and https://www.tensorflow.org/api_docs/python/tf/function for  more details.\n"
          ]
        },
        {
          "name": "stdout",
          "output_type": "stream",
          "text": [
            "1/1 [==============================] - 0s 102ms/step\n"
          ]
        },
        {
          "data": {
            "text/plain": [
              "['P0133', 'P0133', 'C0300', 'C0300', 'C0300']"
            ]
          },
          "execution_count": 26,
          "metadata": {},
          "output_type": "execute_result"
        }
      ],
      "source": [
        "my_model_1 = load_model(\"./my_model.keras\", custom_objects=None, compile=True, safe_mode=True)\n",
        "\n",
        "trouble_classes = ['No error' ,'P0133', 'C0300', 'P0079P2004P3000', 'P0078U1004P3000',\n",
        "        'P0079C1004P3000', 'P007EP2036P18F0', 'P007EP2036P18D0',\n",
        "        'P007FP2036P18D0', 'P0079P1004P3000', 'P007EP2036P18E0',\n",
        "        'P007FP2036P18E0', 'P0078B0004P3000', 'P007FP2036P18F0']\n",
        "\n",
        "input_np = np.array([[1.600e+00, 7.600e+01, 2.160e-01, 1.540e+03, 6.500e+01, 3.500e+01,\n",
        "        4.000e+01, 1.960e-01, 4.780e-01, 1.200e+01, 1.000e+00, 7.000e+00],\n",
        "       [1.600e+00, 6.800e+01, 1.548e-01, 8.000e+02, 3.000e+01, 3.100e+01,\n",
        "        0.000e+00, 2.700e-02, 5.530e-01, 1.100e+01, 1.000e+00, 8.000e+00],\n",
        "       [1.600e+00, 7.900e+01, 5.060e-01, 2.063e+03, 4.600e+01, 5.400e+01,\n",
        "        2.000e+01, 1.330e-01, 7.180e-01, 1.200e+01, 1.000e+00, 8.000e+00],\n",
        "       [1.600e+00, 7.800e+01, 2.430e-01, 7.620e+02, 6.200e+01, 4.000e+01,\n",
        "        1.600e+01, 1.100e-01, 5.180e-01, 3.000e+00, 4.000e+00, 8.000e+00],\n",
        "       [1.600e+00, 7.200e+01, 4.100e-01, 1.274e+03, 6.200e+01, 3.500e+01,\n",
        "        3.800e+01, 1.410e-01, 5.020e-01, 1.100e+01, 4.000e+00, 8.000e+00]])\n",
        "\n",
        "\n",
        "poly = PolynomialFeatures(1, include_bias=False)\n",
        "input_np_mapped = poly.fit_transform(input_np)\n",
        "scaler = StandardScaler()\n",
        "input_np_mapped_scaled = scaler.fit_transform(input_np_mapped)\n",
        "\n",
        "\n",
        "output_np_sm = tf.nn.softmax(my_model_1.predict(input_np_mapped_scaled))\n",
        "\n",
        "output_np = np.argmax(output_np_sm, axis=1) # apply for each sample\n",
        "\n",
        "output_np_trouble = [trouble_classes[i] for i in output_np]\n",
        "\n",
        "output_np_trouble"
      ]
    },
    {
      "cell_type": "markdown",
      "metadata": {
        "id": "3lQMzEZvxFmG"
      },
      "source": [
        "not at all"
      ]
    },
    {
      "cell_type": "code",
      "execution_count": null,
      "metadata": {
        "colab": {
          "base_uri": "https://localhost:8080/"
        },
        "id": "75aGJce20IIy",
        "outputId": "6bc3ce82-fee3-472a-aeb1-9cae936c79cc"
      },
      "outputs": [
        {
          "data": {
            "text/plain": [
              "['model.joblib']"
            ]
          },
          "execution_count": 14,
          "metadata": {},
          "output_type": "execute_result"
        }
      ],
      "source": [
        "from joblib import dump, load\n",
        "\n",
        "dump(model_1, 'model.joblib')"
      ]
    },
    {
      "cell_type": "code",
      "execution_count": null,
      "metadata": {
        "colab": {
          "base_uri": "https://localhost:8080/"
        },
        "id": "hSBYROpq0quc",
        "outputId": "2021f83c-12ff-499a-ac24-a64274394309"
      },
      "outputs": [
        {
          "name": "stdout",
          "output_type": "stream",
          "text": [
            "224/224 [==============================] - 1s 3ms/step\n"
          ]
        },
        {
          "data": {
            "text/plain": [
              "36"
            ]
          },
          "execution_count": 15,
          "metadata": {},
          "output_type": "execute_result"
        }
      ],
      "source": [
        "# load model from .joblib file\n",
        "model_in = load('model.joblib')\n",
        "miss(x_train_mapped_scaled, y_train, tf.nn.softmax(model_in.predict(x_train_mapped_scaled)))"
      ]
    },
    {
      "cell_type": "code",
      "execution_count": null,
      "metadata": {
        "id": "DlKCgA8qCQrN"
      },
      "outputs": [],
      "source": [
        "def predict_troubles(input_data, model):\n",
        "  trouble_classes = ['P0133', 'C0300', 'P0079P2004P3000', 'P0078U1004P3000',\n",
        "        'P0079C1004P3000', 'P007EP2036P18F0', 'P007EP2036P18D0',\n",
        "        'P007FP2036P18D0', 'P0079P1004P3000', 'P007EP2036P18E0',\n",
        "        'P007FP2036P18E0', 'P0078B0004P3000', 'P007FP2036P18F0']\n",
        "\n",
        "  poly = PolynomialFeatures(1, include_bias=False)\n",
        "  input_data_mapped = poly.fit_transform(input_data)\n",
        "  scaler = StandardScaler()\n",
        "  input_data_mapped_scaled = scaler.fit_transform(input_data_mapped)\n",
        "\n",
        "\n",
        "  output_data_sm = tf.nn.softmax(my_model_1.predict(input_data_mapped_scaled))\n",
        "\n",
        "  output_data = np.argmax(output_data_sm, axis=1) # apply for each sample\n",
        "\n",
        "  output_troubles = [trouble_classes[i] for i in output_np]\n",
        "\n",
        "  return output_troubles"
      ]
    },
    {
      "cell_type": "code",
      "execution_count": null,
      "metadata": {
        "colab": {
          "base_uri": "https://localhost:8080/"
        },
        "id": "bYvzg6XJDUNe",
        "outputId": "157e2a50-cad2-4b8d-9e6f-bd30915fba0b"
      },
      "outputs": [
        {
          "name": "stdout",
          "output_type": "stream",
          "text": [
            "1/1 [==============================] - 0s 22ms/step\n"
          ]
        },
        {
          "data": {
            "text/plain": [
              "['P0133', 'P0133', 'C0300', 'C0300', 'C0300']"
            ]
          },
          "execution_count": 37,
          "metadata": {},
          "output_type": "execute_result"
        }
      ],
      "source": [
        "predict_troubles(input_np, my_model_1)"
      ]
    },
    {
      "cell_type": "code",
      "execution_count": null,
      "metadata": {
        "colab": {
          "base_uri": "https://localhost:8080/"
        },
        "id": "5rh2STwqKX1v",
        "outputId": "20d3f2d8-8e04-4133-c1b6-dd57f91236e2"
      },
      "outputs": [
        {
          "data": {
            "text/plain": [
              "[1.0, 4.0, 9.0, 0.4, 1.0]"
            ]
          },
          "execution_count": 48,
          "metadata": {},
          "output_type": "execute_result"
        }
      ],
      "source": [
        "def is_float(s):\n",
        "  try:\n",
        "    float(s)\n",
        "    return True\n",
        "  except:\n",
        "    return False\n",
        "\n",
        "s = \"1 ,   4,  9 , 0.4,  , 1\"\n",
        "f = s.split(',')\n",
        "a = [float(x) for x in f if is_float(x)]\n",
        "a"
      ]
    },
    {
      "cell_type": "code",
      "source": [
        "import numpy as np\n",
        "import tensorflow as tf\n",
        "def softmax(x):\n",
        "  z = np.exp(x)\n",
        "  s = z / z.sum(axis=0)\n",
        "  return s\n",
        "\n",
        "x = np.array([1.0, 2.0, 3.0])\n",
        "print(softmax(x))\n",
        "print(tf.nn.softmax(x))"
      ],
      "metadata": {
        "colab": {
          "base_uri": "https://localhost:8080/"
        },
        "id": "fiLw3ih2AO8l",
        "outputId": "eb232320-0ec5-4885-8d2d-51f5b2e646aa"
      },
      "execution_count": null,
      "outputs": [
        {
          "output_type": "stream",
          "name": "stdout",
          "text": [
            "[0.09003057 0.24472847 0.66524096]\n",
            "tf.Tensor([0.09003057 0.24472847 0.66524096], shape=(3,), dtype=float64)\n"
          ]
        }
      ]
    },
    {
      "cell_type": "code",
      "source": [
        "model_1.save(\"model_1.h5\")"
      ],
      "metadata": {
        "colab": {
          "base_uri": "https://localhost:8080/"
        },
        "id": "HY0e9YKGsxXO",
        "outputId": "ee4c507b-a480-49ee-bb41-f9932c6028d4"
      },
      "execution_count": null,
      "outputs": [
        {
          "output_type": "stream",
          "name": "stderr",
          "text": [
            "/usr/local/lib/python3.10/dist-packages/keras/src/engine/training.py:3103: UserWarning: You are saving your model as an HDF5 file via `model.save()`. This file format is considered legacy. We recommend using instead the native Keras format, e.g. `model.save('my_model.keras')`.\n",
            "  saving_api.save_model(\n"
          ]
        }
      ]
    },
    {
      "cell_type": "code",
      "source": [
        "new_model = tf.keras.models.load_model('model_1.h5')\n",
        "new_model.summary()"
      ],
      "metadata": {
        "colab": {
          "base_uri": "https://localhost:8080/"
        },
        "id": "eJ_94PDktDAd",
        "outputId": "685fadf2-e19c-4d68-d251-3f0e5bf75480"
      },
      "execution_count": null,
      "outputs": [
        {
          "output_type": "stream",
          "name": "stdout",
          "text": [
            "Model: \"model_1\"\n",
            "_________________________________________________________________\n",
            " Layer (type)                Output Shape              Param #   \n",
            "=================================================================\n",
            " dense (Dense)               (None, 25)                325       \n",
            "                                                                 \n",
            " dense_1 (Dense)             (None, 18)                468       \n",
            "                                                                 \n",
            " dense_2 (Dense)             (None, 13)                247       \n",
            "                                                                 \n",
            "=================================================================\n",
            "Total params: 1040 (4.06 KB)\n",
            "Trainable params: 1040 (4.06 KB)\n",
            "Non-trainable params: 0 (0.00 Byte)\n",
            "_________________________________________________________________\n"
          ]
        }
      ]
    }
  ],
  "metadata": {
    "colab": {
      "provenance": [],
      "authorship_tag": "ABX9TyOwrlE+uno8QU86lVwh8MFP",
      "include_colab_link": true
    },
    "kernelspec": {
      "display_name": "Python 3",
      "name": "python3"
    },
    "language_info": {
      "name": "python"
    }
  },
  "nbformat": 4,
  "nbformat_minor": 0
}